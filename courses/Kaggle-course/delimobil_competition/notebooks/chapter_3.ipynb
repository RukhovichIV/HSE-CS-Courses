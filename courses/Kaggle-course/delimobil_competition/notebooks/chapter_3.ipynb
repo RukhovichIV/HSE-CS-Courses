{
 "cells": [
  {
   "cell_type": "code",
   "execution_count": 1,
   "metadata": {},
   "outputs": [],
   "source": [
    "%load_ext autoreload\n",
    "%autoreload 2\n",
    "\n",
    "import os\n",
    "import random\n",
    "import sys\n",
    "\n",
    "sys.path.append(\"../\")\n",
    "\n",
    "from matplotlib import pyplot as plt\n",
    "import numpy as np\n",
    "import pandas as pd\n",
    "from tqdm import tqdm\n",
    "import seaborn as sns\n",
    "import phik\n",
    "from sklearn.model_selection import StratifiedKFold\n",
    "from src.utils import DEFAULT_RANDOM_STATE, set_random_state"
   ]
  },
  {
   "cell_type": "code",
   "execution_count": 2,
   "metadata": {},
   "outputs": [],
   "source": [
    "set_random_state(state=DEFAULT_RANDOM_STATE)\n",
    "sns.set_theme()\n",
    "\n",
    "class Paths:\n",
    "    data_dir = \"../data/src/\"\n",
    "    submit_dir  = \"../data/submissions/\"\n",
    "    \n",
    "paths = Paths()\n",
    "\n",
    "regenerate = True\n",
    "mode = \"train\"  # \"train\" (only train dataset), \"sub\" (no y_test)"
   ]
  },
  {
   "cell_type": "code",
   "execution_count": null,
   "metadata": {},
   "outputs": [],
   "source": []
  }
 ],
 "metadata": {
  "kernelspec": {
   "display_name": "py39",
   "language": "python",
   "name": "python3"
  },
  "language_info": {
   "codemirror_mode": {
    "name": "ipython",
    "version": 3
   },
   "file_extension": ".py",
   "mimetype": "text/x-python",
   "name": "python",
   "nbconvert_exporter": "python",
   "pygments_lexer": "ipython3",
   "version": "3.8.13"
  }
 },
 "nbformat": 4,
 "nbformat_minor": 2
}
