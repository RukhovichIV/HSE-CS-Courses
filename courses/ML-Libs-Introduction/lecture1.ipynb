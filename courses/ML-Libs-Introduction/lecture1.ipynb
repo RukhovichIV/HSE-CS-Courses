{
 "cells": [
  {
   "cell_type": "markdown",
   "id": "e0d49a69",
   "metadata": {},
   "source": [
    "list, map, set"
   ]
  },
  {
   "cell_type": "code",
   "execution_count": 13,
   "id": "e1b5582f",
   "metadata": {},
   "outputs": [],
   "source": [
    "import time\n",
    "import numpy as np\n",
    "import matplotlib.pyplot as plt\n",
    "from tqdm import tqdm"
   ]
  },
  {
   "cell_type": "code",
   "execution_count": 14,
   "id": "bc199cb2",
   "metadata": {},
   "outputs": [
    {
     "name": "stderr",
     "output_type": "stream",
     "text": [
      "100%|█████████████████████████████████████████████████████████████████████████████████████████████████████████████████████████| 8/8 [00:04<00:00,  1.86it/s]\n"
     ]
    },
    {
     "data": {
      "text/plain": [
       "[<matplotlib.lines.Line2D at 0x7f82d5d73af0>]"
      ]
     },
     "execution_count": 14,
     "metadata": {},
     "output_type": "execute_result"
    },
    {
     "data": {
      "image/png": "[encoded data removed]",
      "text/plain": [
       "<Figure size 640x480 with 1 Axes>"
      ]
     },
     "metadata": {},
     "output_type": "display_data"
    }
   ],
   "source": [
    "sizes = [2000, 3000, 4500, 5000, 10000, 12000, 15000, 17000]\n",
    "times = []\n",
    "for size in tqdm(sizes):\n",
    "    for _ in range(100):\n",
    "        x = []\n",
    "        for _ in range(size):\n",
    "            x.append(0)\n",
    "    t0 = time.time()\n",
    "    for _ in range(1000):\n",
    "        x = []\n",
    "        for _ in range(size):\n",
    "            x.append(0)\n",
    "    times.append((time.time() - t0) / 1000 / size)\n",
    "plt.plot(sizes, times, \"--o\")"
   ]
  },
  {
   "cell_type": "code",
   "execution_count": 17,
   "id": "4dabd705",
   "metadata": {},
   "outputs": [
    {
     "data": {
      "text/plain": [
       "3847383845263836878"
      ]
     },
     "execution_count": 17,
     "metadata": {},
     "output_type": "execute_result"
    }
   ],
   "source": [
    "hash('a')"
   ]
  },
  {
   "cell_type": "code",
   "execution_count": 15,
   "id": "153056a9",
   "metadata": {},
   "outputs": [
    {
     "data": {
      "text/plain": [
       "1"
      ]
     },
     "execution_count": 15,
     "metadata": {},
     "output_type": "execute_result"
    }
   ],
   "source": [
    "x = {'a': 1, 'b': 2}\n",
    "x['a']"
   ]
  },
  {
   "cell_type": "code",
   "execution_count": 19,
   "id": "2256b000",
   "metadata": {},
   "outputs": [
    {
     "data": {
      "text/plain": [
       "True"
      ]
     },
     "execution_count": 19,
     "metadata": {},
     "output_type": "execute_result"
    }
   ],
   "source": [
    "x = set({'a', 'b', 'c'})\n",
    "'a' in x"
   ]
  },
  {
   "cell_type": "code",
   "execution_count": 24,
   "id": "1248bac7",
   "metadata": {},
   "outputs": [],
   "source": [
    "import pandas as pd\n",
    "import pyarrow.csv"
   ]
  },
  {
   "cell_type": "code",
   "execution_count": 25,
   "id": "5c454b57",
   "metadata": {},
   "outputs": [
    {
     "data": {
      "text/plain": [
       "0.7369935512542725"
      ]
     },
     "execution_count": 25,
     "metadata": {},
     "output_type": "execute_result"
    }
   ],
   "source": [
    "t0 = time.time()\n",
    "df = pd.read_csv(\"/mnt/postprocessing/CL_CAR_EXPERIMENT/01820/1_01820/LOGITECH_3D_POINTS_SMARTEYE_110.csv\")\n",
    "time.time() - t0"
   ]
  },
  {
   "cell_type": "code",
   "execution_count": 31,
   "id": "f88042f3",
   "metadata": {},
   "outputs": [
    {
     "data": {
      "text/plain": [
       "0.00399327278137207"
      ]
     },
     "execution_count": 31,
     "metadata": {},
     "output_type": "execute_result"
    }
   ],
   "source": [
    "t0 = time.time()\n",
    "x = df['Landmark1_X_coord']\n",
    "x += 1\n",
    "time.time() - t0"
   ]
  },
  {
   "cell_type": "code",
   "execution_count": 30,
   "id": "fe1c8e3d",
   "metadata": {},
   "outputs": [
    {
     "data": {
      "text/plain": [
       "2.681645154953003"
      ]
     },
     "execution_count": 30,
     "metadata": {},
     "output_type": "execute_result"
    }
   ],
   "source": [
    "t0 = time.time()\n",
    "for i in range(len(x)):\n",
    "    x[i] += 1\n",
    "time.time() - t0"
   ]
  },
  {
   "cell_type": "code",
   "execution_count": 26,
   "id": "7bf58f53",
   "metadata": {},
   "outputs": [
    {
     "data": {
      "text/plain": [
       "0.1502246856689453"
      ]
     },
     "execution_count": 26,
     "metadata": {},
     "output_type": "execute_result"
    }
   ],
   "source": [
    "t0 = time.time()\n",
    "df = pyarrow.csv.read_csv(\"/mnt/postprocessing/CL_CAR_EXPERIMENT/01820/1_01820/LOGITECH_3D_POINTS_SMARTEYE_110.csv\").to_pandas()\n",
    "time.time() - t0"
   ]
  },
  {
   "cell_type": "code",
   "execution_count": 32,
   "id": "aab34ce5",
   "metadata": {},
   "outputs": [],
   "source": [
    "import numpy as np"
   ]
  },
  {
   "cell_type": "code",
   "execution_count": 34,
   "id": "06dd588d",
   "metadata": {},
   "outputs": [
    {
     "data": {
      "text/plain": [
       "0.0016658306121826172"
      ]
     },
     "execution_count": 34,
     "metadata": {},
     "output_type": "execute_result"
    }
   ],
   "source": [
    "x = df['Landmark1_X_coord'].values\n",
    "t0 = time.time()\n",
    "x = df['Landmark1_X_coord'].values\n",
    "x += 1\n",
    "time.time() - t0"
   ]
  },
  {
   "cell_type": "code",
   "execution_count": 95,
   "id": "bd0c67de",
   "metadata": {},
   "outputs": [
    {
     "data": {
      "text/plain": [
       "0.0016093039512634277"
      ]
     },
     "execution_count": 95,
     "metadata": {},
     "output_type": "execute_result"
    }
   ],
   "source": [
    "np.random.seed(42)\n",
    "x = (np.random.randn(30, 100000) ** 2).astype(np.float32)\n",
    "def f(x):\n",
    "    x = np.sqrt(x)\n",
    "    return x\n",
    "t0 = time.time()\n",
    "for _ in range(100):\n",
    "    f(x)\n",
    "(time.time() - t0) / 100"
   ]
  },
  {
   "cell_type": "markdown",
   "id": "a2b74ae8",
   "metadata": {},
   "source": [
    "# numba"
   ]
  },
  {
   "cell_type": "code",
   "execution_count": 43,
   "id": "a73af7a8",
   "metadata": {},
   "outputs": [],
   "source": [
    "import numba"
   ]
  },
  {
   "cell_type": "code",
   "execution_count": 86,
   "id": "7e0bf6c0",
   "metadata": {},
   "outputs": [
    {
     "data": {
      "text/plain": [
       "0.001441323757171631"
      ]
     },
     "execution_count": 86,
     "metadata": {},
     "output_type": "execute_result"
    }
   ],
   "source": [
    "@numba.njit\n",
    "def f(x):\n",
    "    x = np.sqrt(x)\n",
    "    return x\n",
    "f(x)\n",
    "t0 = time.time()\n",
    "for _ in range(100):\n",
    "    f(x)\n",
    "(time.time() - t0) / 100"
   ]
  },
  {
   "cell_type": "code",
   "execution_count": 92,
   "id": "87212793",
   "metadata": {},
   "outputs": [
    {
     "data": {
      "text/plain": [
       "2.720587968826294e-05"
      ]
     },
     "execution_count": 92,
     "metadata": {},
     "output_type": "execute_result"
    }
   ],
   "source": [
    "@numba.njit(parallel=True)\n",
    "def f(x):\n",
    "    for i in numba.prange(x.shape[0]):\n",
    "        x[:, i] = np.sqrt(x[:, i])\n",
    "    return x\n",
    "f(x)\n",
    "t0 = time.time()\n",
    "for _ in range(100000):\n",
    "    f(x)\n",
    "(time.time() - t0) / 100000"
   ]
  },
  {
   "cell_type": "code",
   "execution_count": 88,
   "id": "c43ca7ae",
   "metadata": {},
   "outputs": [
    {
     "data": {
      "text/plain": [
       "39.473684210526315"
      ]
     },
     "execution_count": 88,
     "metadata": {},
     "output_type": "execute_result"
    }
   ],
   "source": [
    "0.0015 / (3.8e-5)"
   ]
  },
  {
   "cell_type": "code",
   "execution_count": null,
   "id": "f8c0c54a",
   "metadata": {},
   "outputs": [],
   "source": [
    "global x"
   ]
  },
  {
   "cell_type": "code",
   "execution_count": 94,
   "id": "85147729",
   "metadata": {},
   "outputs": [],
   "source": [
    "import multiprocessing\n",
    "from multiprocessing.pool import ThreadPool"
   ]
  },
  {
   "cell_type": "code",
   "execution_count": 100,
   "id": "595454f0",
   "metadata": {},
   "outputs": [],
   "source": [
    "def f_mp(x):\n",
    "    x = np.sqrt(x)\n",
    "    return x"
   ]
  },
  {
   "cell_type": "code",
   "execution_count": 102,
   "id": "90e5bb9a",
   "metadata": {},
   "outputs": [],
   "source": [
    "with multiprocessing.Pool(30) as p:\n",
    "    res = p.map(f_mp, [x] * 30)"
   ]
  },
  {
   "cell_type": "markdown",
   "id": "bd11de0c",
   "metadata": {},
   "source": [
    "# Homework"
   ]
  },
  {
   "cell_type": "markdown",
   "id": "d9092894",
   "metadata": {},
   "source": [
    "1) Алгоритмически\n",
    "2) Быстро питонически\n",
    "3) Не должен падать\n",
    "\n",
    "Deadline: 25.11"
   ]
  },
  {
   "cell_type": "code",
   "execution_count": null,
   "id": "75aa80b9",
   "metadata": {},
   "outputs": [],
   "source": [
    "def match_timestamps(timestamps1, timestamp2):\n",
    "    \"\"\"\n",
    "    timestamps1: shape (N1), dtype=np.float64\n",
    "    timestamps2: shape (N2), dtype=np.float64\n",
    "    timestamps1, timestamps2 are sorted\n",
    "    N1, N2 > 0\n",
    "    N2 > N1\n",
    "    \"\"\"\n",
    "    ...\n",
    "    return idx "
   ]
  },
  {
   "cell_type": "code",
   "execution_count": 108,
   "id": "b1cb249a",
   "metadata": {},
   "outputs": [
    {
     "data": {
      "text/plain": [
       "((3000,), (6000,))"
      ]
     },
     "execution_count": 108,
     "metadata": {},
     "output_type": "execute_result"
    }
   ],
   "source": [
    "timestamps1 = np.linspace(time.time(), time.time()+100, 100*30)\n",
    "timestamps1 += np.random.randn(len(timestamps1))\n",
    "timestamps1 = np.sort(timestamps1)\n",
    "\n",
    "timestamps2 = np.linspace(time.time(), time.time()+100, 100*60)\n",
    "timestamps2 += np.random.randn(len(timestamps2))\n",
    "timestamps2 = np.sort(timestamps2)\n",
    "timestamps1.shape, timestamps2.shape"
   ]
  },
  {
   "cell_type": "code",
   "execution_count": null,
   "id": "3f6652aa",
   "metadata": {},
   "outputs": [],
   "source": []
  },
  {
   "cell_type": "code",
   "execution_count": null,
   "id": "35c58694",
   "metadata": {},
   "outputs": [],
   "source": []
  },
  {
   "cell_type": "code",
   "execution_count": null,
   "id": "16601fdb",
   "metadata": {},
   "outputs": [],
   "source": []
  },
  {
   "cell_type": "code",
   "execution_count": null,
   "id": "dffd3fae",
   "metadata": {},
   "outputs": [],
   "source": []
  },
  {
   "cell_type": "code",
   "execution_count": null,
   "id": "df345d62",
   "metadata": {},
   "outputs": [],
   "source": []
  },
  {
   "cell_type": "code",
   "execution_count": null,
   "id": "cc7aadd6",
   "metadata": {},
   "outputs": [],
   "source": []
  },
  {
   "cell_type": "code",
   "execution_count": null,
   "id": "7032f19d",
   "metadata": {},
   "outputs": [],
   "source": []
  },
  {
   "cell_type": "code",
   "execution_count": null,
   "id": "ba3ff988",
   "metadata": {},
   "outputs": [],
   "source": []
  },
  {
   "cell_type": "code",
   "execution_count": null,
   "id": "2bd2c575",
   "metadata": {},
   "outputs": [],
   "source": []
  },
  {
   "cell_type": "code",
   "execution_count": null,
   "id": "346b96b3",
   "metadata": {},
   "outputs": [],
   "source": []
  },
  {
   "cell_type": "code",
   "execution_count": null,
   "id": "4d5f5e23",
   "metadata": {},
   "outputs": [],
   "source": []
  },
  {
   "cell_type": "code",
   "execution_count": 12,
   "id": "be74fb15",
   "metadata": {},
   "outputs": [],
   "source": [
    "import time\n",
    "import numpy as np\n",
    "import matplotlib.pyplot as plt\n",
    "from tqdm import tqdm"
   ]
  },
  {
   "cell_type": "code",
   "execution_count": 42,
   "id": "d1816c13",
   "metadata": {},
   "outputs": [
    {
     "name": "stderr",
     "output_type": "stream",
     "text": [
      "100%|███████████████████████████████████████████████████████████████████████████████████████████████████████████████████████| 90/90 [00:26<00:00,  3.41it/s]\n"
     ]
    },
    {
     "data": {
      "text/plain": [
       "[<matplotlib.lines.Line2D at 0x7ffa181da9d0>]"
      ]
     },
     "execution_count": 42,
     "metadata": {},
     "output_type": "execute_result"
    },
    {
     "data": {
      "image/png": "[encoded data removed]",
      "text/plain": [
       "<Figure size 640x480 with 1 Axes>"
      ]
     },
     "metadata": {},
     "output_type": "display_data"
    }
   ],
   "source": [
    "x = [0,0,0,0]\n",
    "n_sizes = np.arange(1000, 10000, 100)\n",
    "n_iter = 1000\n",
    "times = []\n",
    "\n",
    "for size in tqdm(n_sizes):\n",
    "    t0 = time.time()\n",
    "    for _ in range(n_iter):\n",
    "        x = []\n",
    "        for _ in range(size):\n",
    "            x.append(0)\n",
    "    times.append((time.time() - t0) / n_iter / size)\n",
    "plt.plot(n_sizes, times)"
   ]
  },
  {
   "cell_type": "code",
   "execution_count": 90,
   "id": "e5237f26",
   "metadata": {},
   "outputs": [],
   "source": [
    "import numba"
   ]
  },
  {
   "cell_type": "code",
   "execution_count": null,
   "id": "2024356e",
   "metadata": {},
   "outputs": [],
   "source": [
    "jit compiler"
   ]
  },
  {
   "cell_type": "code",
   "execution_count": 124,
   "id": "d564b7c6",
   "metadata": {},
   "outputs": [],
   "source": [
    "@numba.njit(parallel=True)\n",
    "def f(x):\n",
    "    for _ in numba.prange(100000):\n",
    "        np.sqrt(x)\n",
    "    return x"
   ]
  },
  {
   "cell_type": "code",
   "execution_count": 130,
   "id": "0e83f0e9",
   "metadata": {},
   "outputs": [
    {
     "data": {
      "text/plain": [
       "0.038945913314819336"
      ]
     },
     "execution_count": 130,
     "metadata": {},
     "output_type": "execute_result"
    }
   ],
   "source": [
    "x = np.array([0] * 1000, dtype=np.float32)\n",
    "t0 = time.time()\n",
    "for _ in range(1000):\n",
    "    f(x)\n",
    "time.time() - t0"
   ]
  },
  {
   "cell_type": "code",
   "execution_count": 120,
   "id": "9706de3d",
   "metadata": {},
   "outputs": [
    {
     "data": {
      "text/plain": [
       "2.972487688064575"
      ]
     },
     "execution_count": 120,
     "metadata": {},
     "output_type": "execute_result"
    }
   ],
   "source": [
    "x = np.array([0] * 1000, dtype=np.float32)\n",
    "t0 = time.time()\n",
    "for _ in range(100):\n",
    "    f(x)\n",
    "time.time() - t0"
   ]
  },
  {
   "cell_type": "code",
   "execution_count": 112,
   "id": "5825afd9",
   "metadata": {},
   "outputs": [
    {
     "data": {
      "text/plain": [
       "0.0023996829986572266"
      ]
     },
     "execution_count": 112,
     "metadata": {},
     "output_type": "execute_result"
    }
   ],
   "source": [
    "x = np.array([0] * 1000, dtype=np.float32)\n",
    "t0 = time.time()\n",
    "f(x)\n",
    "time.time() - t0"
   ]
  },
  {
   "cell_type": "code",
   "execution_count": 96,
   "id": "50c2df1a",
   "metadata": {},
   "outputs": [
    {
     "data": {
      "text/plain": [
       "0.0006759166717529297"
      ]
     },
     "execution_count": 96,
     "metadata": {},
     "output_type": "execute_result"
    }
   ],
   "source": [
    "x = np.array([0] * 1000)\n",
    "t0 = time.time()\n",
    "f(x)\n",
    "time.time() - t0"
   ]
  },
  {
   "cell_type": "code",
   "execution_count": 86,
   "id": "f4d938e6",
   "metadata": {},
   "outputs": [
    {
     "data": {
      "text/plain": [
       "0.12926244735717773"
      ]
     },
     "execution_count": 86,
     "metadata": {},
     "output_type": "execute_result"
    }
   ],
   "source": [
    "x = [0] * 1000\n",
    "t0 = time.time()\n",
    "for _ in range(1000):\n",
    "    for j in range(len(x)):\n",
    "        x[j] += 1\n",
    "time.time() - t0"
   ]
  },
  {
   "cell_type": "code",
   "execution_count": 84,
   "id": "a5c58cea",
   "metadata": {},
   "outputs": [
    {
     "data": {
      "text/plain": [
       "array([1., 4., 6., 8.], dtype=float32)"
      ]
     },
     "execution_count": 84,
     "metadata": {},
     "output_type": "execute_result"
    }
   ],
   "source": [
    "import numpy as np\n",
    "x = np.array([1,2,3,4], dtype=np.float32)\n",
    "x[0] = int(0)\n",
    "x\n",
    "np.array([1,2,3,4], dtype=object)"
   ]
  },
  {
   "cell_type": "code",
   "execution_count": 50,
   "id": "5471d09a",
   "metadata": {},
   "outputs": [
    {
     "data": {
      "text/plain": [
       "{'a': 0, 'b': 1}"
      ]
     },
     "execution_count": 50,
     "metadata": {},
     "output_type": "execute_result"
    }
   ],
   "source": [
    "x = {'a': 0}\n",
    "x['b'] = 1\n",
    "x"
   ]
  },
  {
   "cell_type": "code",
   "execution_count": 53,
   "id": "0b2739df",
   "metadata": {},
   "outputs": [
    {
     "data": {
      "text/plain": [
       "{'a', 'b', 'c'}"
      ]
     },
     "execution_count": 53,
     "metadata": {},
     "output_type": "execute_result"
    }
   ],
   "source": [
    "x = set({'a', 'b', 'c'})\n",
    "x"
   ]
  },
  {
   "cell_type": "code",
   "execution_count": 75,
   "id": "234a434b",
   "metadata": {},
   "outputs": [
    {
     "data": {
      "text/plain": [
       "array([10002, 10003, 10004])"
      ]
     },
     "execution_count": 75,
     "metadata": {},
     "output_type": "execute_result"
    }
   ],
   "source": [
    "x['a'].values"
   ]
  },
  {
   "cell_type": "code",
   "execution_count": 77,
   "id": "fa45556e",
   "metadata": {},
   "outputs": [
    {
     "data": {
      "text/plain": [
       "0.02843642234802246"
      ]
     },
     "execution_count": 77,
     "metadata": {},
     "output_type": "execute_result"
    }
   ],
   "source": [
    "a = x['a'].values\n",
    "t0 = time.time()\n",
    "for _ in range(10000):\n",
    "    a += 1\n",
    "time.time() - t0"
   ]
  },
  {
   "cell_type": "code",
   "execution_count": 74,
   "id": "3eb5e48a",
   "metadata": {},
   "outputs": [
    {
     "data": {
      "text/plain": [
       "1.3810827732086182"
      ]
     },
     "execution_count": 74,
     "metadata": {},
     "output_type": "execute_result"
    }
   ],
   "source": [
    "t0 = time.time()\n",
    "for _ in range(10000):\n",
    "    x['a'] += 1\n",
    "time.time() - t0"
   ]
  },
  {
   "cell_type": "code",
   "execution_count": 54,
   "id": "8771f770",
   "metadata": {},
   "outputs": [],
   "source": [
    "import pandas as pd"
   ]
  },
  {
   "cell_type": "code",
   "execution_count": 72,
   "id": "c5404441",
   "metadata": {},
   "outputs": [
    {
     "data": {
      "text/plain": [
       "5.071357727050781"
      ]
     },
     "execution_count": 72,
     "metadata": {},
     "output_type": "execute_result"
    }
   ],
   "source": [
    "t0 = time.time()\n",
    "pd.read_csv(\"/data/home/ashilov2/trash/RPPG_VIDEO_FEATURES_122.csv\")\n",
    "time.time() - t0"
   ]
  },
  {
   "cell_type": "code",
   "execution_count": 70,
   "id": "a1c30fc1",
   "metadata": {},
   "outputs": [
    {
     "data": {
      "text/plain": [
       "0.968900203704834"
      ]
     },
     "execution_count": 70,
     "metadata": {},
     "output_type": "execute_result"
    }
   ],
   "source": [
    "import pyarrow.csv\n",
    "t0 = time.time()\n",
    "pyarrow.csv.read_csv(\"/data/home/ashilov2/trash/RPPG_VIDEO_FEATURES_122.csv\").to_pandas()\n",
    "time.time() - t0"
   ]
  },
  {
   "cell_type": "code",
   "execution_count": 57,
   "id": "8206ca2a",
   "metadata": {},
   "outputs": [
    {
     "data": {
      "text/html": [
       "<div>\n",
       "<style scoped>\n",
       "    .dataframe tbody tr th:only-of-type {\n",
       "        vertical-align: middle;\n",
       "    }\n",
       "\n",
       "    .dataframe tbody tr th {\n",
       "        vertical-align: top;\n",
       "    }\n",
       "\n",
       "    .dataframe thead th {\n",
       "        text-align: right;\n",
       "    }\n",
       "</style>\n",
       "<table border=\"1\" class=\"dataframe\">\n",
       "  <thead>\n",
       "    <tr style=\"text-align: right;\">\n",
       "      <th></th>\n",
       "      <th>a</th>\n",
       "      <th>b</th>\n",
       "    </tr>\n",
       "  </thead>\n",
       "  <tbody>\n",
       "    <tr>\n",
       "      <th>0</th>\n",
       "      <td>1</td>\n",
       "      <td>3</td>\n",
       "    </tr>\n",
       "    <tr>\n",
       "      <th>1</th>\n",
       "      <td>2</td>\n",
       "      <td>4</td>\n",
       "    </tr>\n",
       "    <tr>\n",
       "      <th>2</th>\n",
       "      <td>3</td>\n",
       "      <td>5</td>\n",
       "    </tr>\n",
       "  </tbody>\n",
       "</table>\n",
       "</div>"
      ],
      "text/plain": [
       "   a  b\n",
       "0  1  3\n",
       "1  2  4\n",
       "2  3  5"
      ]
     },
     "execution_count": 57,
     "metadata": {},
     "output_type": "execute_result"
    }
   ],
   "source": [
    "x = pd.DataFrame({'a': [1,2,3], 'b': [3,4,5]})\n",
    "x"
   ]
  },
  {
   "cell_type": "code",
   "execution_count": 133,
   "id": "e863e030",
   "metadata": {},
   "outputs": [],
   "source": [
    "import multiprocessing\n",
    "import threading"
   ]
  },
  {
   "cell_type": "code",
   "execution_count": 141,
   "id": "27c14735",
   "metadata": {},
   "outputs": [
    {
     "name": "stdout",
     "output_type": "stream",
     "text": [
      "5.959439992904663\n"
     ]
    }
   ],
   "source": [
    "def f(x):\n",
    "    for i in range(10000):\n",
    "        for j in range(len(x)):\n",
    "            x[j] += 1\n",
    "    return x\n",
    "x = [0] * 10000\n",
    "xs = [x] * 5\n",
    "t0 = time.time()\n",
    "p = multiprocessing.Pool(5)\n",
    "res = p.map(f, xs)\n",
    "p.close()\n",
    "print(time.time() - t0)"
   ]
  },
  {
   "cell_type": "code",
   "execution_count": 143,
   "id": "ce40f834",
   "metadata": {},
   "outputs": [],
   "source": [
    "from multiprocessing.pool import ThreadPool"
   ]
  },
  {
   "cell_type": "code",
   "execution_count": 144,
   "id": "b2940c38",
   "metadata": {},
   "outputs": [
    {
     "name": "stdout",
     "output_type": "stream",
     "text": [
      "127.9831280708313\n"
     ]
    }
   ],
   "source": [
    "\n",
    "def f(x):\n",
    "    for i in range(10000):\n",
    "        for j in range(len(x)):\n",
    "            x[j] += 1\n",
    "    return x\n",
    "x = [0] * 10000\n",
    "xs = [x] * 5\n",
    "t0 = time.time()\n",
    "p = ThreadPool(5)\n",
    "res = p.map(f, xs)\n",
    "p.close()\n",
    "print(time.time() - t0)"
   ]
  },
  {
   "cell_type": "code",
   "execution_count": 149,
   "id": "7884fa90",
   "metadata": {},
   "outputs": [],
   "source": [
    "timestamps1 = np.linspace(time.time(), time.time() + 1000, 1000 * 30)\n",
    "timestamps1 += np.random.randn(len(timestamps1))\n",
    "timestamps1 = np.sort(timestamps1)\n",
    "\n",
    "timestamps2 = np.linspace(time.time(), time.time() + 1000, 1000 * 60)\n",
    "timestamps2 += np.random.randn(len(timestamps2))\n",
    "timestamps2 = np.sort(timestamps2)"
   ]
  },
  {
   "cell_type": "code",
   "execution_count": 150,
   "id": "a5c50a77",
   "metadata": {},
   "outputs": [
    {
     "data": {
      "text/plain": [
       "array([0.        , 0.20686746, 0.34474158, 0.5362618 , 0.99701452,\n",
       "       1.21636033, 1.39229441, 1.49304342, 1.66979432, 1.72289777])"
      ]
     },
     "execution_count": 150,
     "metadata": {},
     "output_type": "execute_result"
    }
   ],
   "source": [
    "timestamps1[:10] - timestamps1[0]"
   ]
  },
  {
   "cell_type": "code",
   "execution_count": 148,
   "id": "4a1c2e7b",
   "metadata": {},
   "outputs": [
    {
     "data": {
      "text/plain": [
       "array([-0.60824919, -0.55871248, -0.47454333, -0.3497622 , -0.08612204,\n",
       "       -0.02819943,  0.01971531,  0.03658223,  0.09713554,  0.17484307])"
      ]
     },
     "execution_count": 148,
     "metadata": {},
     "output_type": "execute_result"
    }
   ],
   "source": [
    "timestamps2[:10] - timestamps1[0]"
   ]
  },
  {
   "cell_type": "code",
   "execution_count": null,
   "id": "135bfd9d",
   "metadata": {},
   "outputs": [],
   "source": [
    "idxs = np.zeros(timestamps2)\n",
    "idx[0] = 0\n",
    "idx[1] = 0\n",
    "idx[9] = 1"
   ]
  }
 ],
 "metadata": {
  "kernelspec": {
   "display_name": "Python 3 (ipykernel)",
   "language": "python",
   "name": "python3"
  },
  "language_info": {
   "codemirror_mode": {
    "name": "ipython",
    "version": 3
   },
   "file_extension": ".py",
   "mimetype": "text/x-python",
   "name": "python",
   "nbconvert_exporter": "python",
   "pygments_lexer": "ipython3",
   "version": "3.8.10"
  }
 },
 "nbformat": 4,
 "nbformat_minor": 5
}
