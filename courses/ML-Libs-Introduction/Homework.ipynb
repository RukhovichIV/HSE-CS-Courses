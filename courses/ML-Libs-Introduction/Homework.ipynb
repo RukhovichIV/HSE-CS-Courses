{
 "cells": [
  {
   "cell_type": "markdown",
   "id": "bf93ae56",
   "metadata": {},
   "source": [
    "# Homework"
   ]
  },
  {
   "cell_type": "code",
   "execution_count": 1,
   "id": "1713029a",
   "metadata": {},
   "outputs": [],
   "source": [
    "import numpy as np\n",
    "import time\n",
    "\n",
    "from joblib import Parallel, delayed, parallel_backend"
   ]
  },
  {
   "cell_type": "code",
   "execution_count": 21,
   "id": "3d6f4a5b",
   "metadata": {},
   "outputs": [
    {
     "data": {
      "text/plain": [
       "array([1, 1, 1, ..., 1, 1, 1], dtype=int32)"
      ]
     },
     "execution_count": 21,
     "metadata": {},
     "output_type": "execute_result"
    }
   ],
   "source": [
    "def match_timestamps(timestamps_30fps, timestamps_60fps):\n",
    "    \"\"\"\n",
    "    Let's say we have two cameras capturing the same scene. \n",
    "    One camera's frame rate is 60, antoher's is 30. However, due to a high CPU or \n",
    "    hard drive load the actual fps might differ from 30 and 60.\n",
    "    \n",
    "    This function matches the frames from the first camera to the second one, meaning\n",
    "    that for each timestamp in timestamps_60fps it finds the index of closest one in timestamps_30fps.\n",
    "    \n",
    "    Inputs:\n",
    "        - timestamps_30fps: sorted np.ndarray, dtype=np.floa64. Timestamps of the 30 fps camera.\n",
    "        - timestamps_60fps: sorted np.ndarray, dtype=np.floa64. Timestamps of the 60 fps camera. \n",
    "    Outputs:\n",
    "        - idxs: np.ndarray, dtype=np.int32. Indexes of timestamps matching.\n",
    "\n",
    "    Example:\n",
    "        - timestamps_30fps = np.array([0, 0.033, 0.066], dtype=np.float64)\n",
    "        - timestamps_60fps = np.array([0, 0.016, 0.032, 0.048, 0.065], dtype=np.float64)\n",
    "        - idxs = np.array([0, 0, 1, 1, 2], dtype=np.int32)\n",
    "    \n",
    "    This function must be as fast as possible on CPU from both algorithmic and Python-wise implementation perspectives.\n",
    "    It must provide the correct result and must not fail on any realization of the described input. \n",
    "    You may use ANY lib or method you want up to writing a C++ wrapping callable from Python. \n",
    "    Consider you have multiple CPU cores.\n",
    "    Send the best implementation of this function to asshilov@yandex.com or to tg @a_team2 before 23:59 24.11 \n",
    "    in .py or .ipynb formats.\n",
    "    Good luck!\n",
    "    \"\"\"\n",
    "    idxs = np.ones(len(timestamps_60fps), dtype=np.int32) # replace this with your code\n",
    "    return idxs\n",
    "\n",
    "def get_sample_timestamps(fps, video_length_sec):\n",
    "    timestamps = np.linspace(time.time(), time.time() + video_length_sec, video_length_sec * fps)\n",
    "    timestamps += np.random.randn(len(timestamps)) / fps # emulate high CPU of drive load\n",
    "    timestamps = np.sort(timestamps) # despite the load, timestamps have to be sorted\n",
    "    return timestamps\n",
    "\n",
    "video_length_sec = 1000 # optimize the implementation for the lengths in range 1000-4000 seconds\n",
    "timestamps_30fps = get_sample_timestamps(30, video_length_sec)\n",
    "timestamps_60fps = get_sample_timestamps(60, video_length_sec)\n",
    "match_timestamps(timestamps_30fps, timestamps_60fps)"
   ]
  },
  {
   "cell_type": "code",
   "execution_count": 19,
   "id": "60273f47",
   "metadata": {},
   "outputs": [
    {
     "data": {
      "text/plain": [
       "array([0., 0., 1., 1., 2.])"
      ]
     },
     "execution_count": 19,
     "metadata": {},
     "output_type": "execute_result"
    }
   ],
   "source": [
    "def match_timestamps_block(t30, t60):\n",
    "    if t30.shape[0] == 0 or t60.shape[0] == 0:\n",
    "        return np.array([])\n",
    "\n",
    "    left_ptr = 0\n",
    "    if not t60[0] < t30[0]:\n",
    "        le, ri = 0, len(t30)\n",
    "        while le + 1 < ri:\n",
    "            m = (le + ri) // 2\n",
    "            if t30[m] < t60[0]:\n",
    "                le = m\n",
    "            else:\n",
    "                ri = m\n",
    "        left_ptr = le\n",
    "    right_ptr = 0\n",
    "\n",
    "    ans = np.zeros(t60.shape[0])\n",
    "    while right_ptr < t60.shape[0]:\n",
    "        ans[right_ptr] = left_ptr if left_ptr + 1 == t30.shape[0] or abs(t60[right_ptr] - t30[left_ptr]) < abs(t60[right_ptr] - t30[left_ptr + 1]) else left_ptr + 1\n",
    "        right_ptr += 1\n",
    "        if right_ptr == t60.shape[0]:\n",
    "            break\n",
    "        while left_ptr < t30.shape[0] and t30[left_ptr] < t60[right_ptr]:\n",
    "            left_ptr += 1\n",
    "        left_ptr -= 1\n",
    "   \n",
    "    return ans\n",
    "\n",
    "match_timestamps_block(np.array([0, 0.033, 0.066]), np.array([0, 0.016, 0.032, 0.048, 0.065]))"
   ]
  },
  {
   "cell_type": "code",
   "execution_count": 22,
   "id": "db4c2c2d",
   "metadata": {},
   "outputs": [
    {
     "name": "stdout",
     "output_type": "stream",
     "text": [
      "Total time: 0.381 sec\n"
     ]
    },
    {
     "data": {
      "text/plain": [
       "(60000,)"
      ]
     },
     "execution_count": 22,
     "metadata": {},
     "output_type": "execute_result"
    }
   ],
   "source": [
    "batch_size = 100\n",
    "n_times = 10\n",
    "\n",
    "t0 = time.time()\n",
    "for _ in range(n_times):\n",
    "    with parallel_backend(backend=\"loky\", n_jobs=8):\n",
    "        par_res = Parallel()(delayed(match_timestamps_block)(\n",
    "            timestamps_30fps, \n",
    "            timestamps_60fps[batch_start:min(batch_start + batch_size, timestamps_60fps.shape[0])])\n",
    "            for batch_start in range(0, timestamps_60fps.shape[0], batch_size))\n",
    "\n",
    "    ans = np.array([])\n",
    "    for res in par_res:\n",
    "        ans = np.append(ans, res)\n",
    "print(f\"Total time: {(time.time() - t0) / n_times:.3f} sec\")\n",
    "\n",
    "ans.shape"
   ]
  },
  {
   "cell_type": "markdown",
   "id": "9932ea5e",
   "metadata": {},
   "source": [
    "# UPDATE (18.12)"
   ]
  },
  {
   "cell_type": "code",
   "execution_count": 25,
   "id": "7a559748",
   "metadata": {},
   "outputs": [],
   "source": [
    "import numba"
   ]
  },
  {
   "cell_type": "code",
   "execution_count": 26,
   "id": "a0a699d9",
   "metadata": {},
   "outputs": [],
   "source": [
    "@numba.jit(parallel=True)\n",
    "def match_timestamps(t30, t60):\n",
    "    ans = np.zeros(t60.shape[0])\n",
    "\n",
    "    num_threads = numba.get_num_threads()\n",
    "    batch_size = (t60.shape[0] // num_threads) + 1\n",
    "\n",
    "    def match_timestamps_block(from_pos, to_pos):\n",
    "        if t30.shape[0] == 0 or from_pos == to_pos:\n",
    "            return\n",
    "\n",
    "        left_ptr = 0\n",
    "        if not t60[from_pos] < t30[0]:\n",
    "            le, ri = 0, len(t30)\n",
    "            while le + 1 < ri:\n",
    "                m = (le + ri) // 2\n",
    "                if t30[m] < t60[from_pos]:\n",
    "                    le = m\n",
    "                else:\n",
    "                    ri = m\n",
    "            left_ptr = le\n",
    "\n",
    "        right_ptr = from_pos\n",
    "        while right_ptr < to_pos:\n",
    "            ans[right_ptr] = left_ptr if left_ptr + 1 == t30.shape[0] or np.abs(t60[right_ptr] - t30[left_ptr]) < np.abs(t60[right_ptr] - t30[left_ptr + 1]) else left_ptr + 1\n",
    "            right_ptr += 1\n",
    "            if right_ptr == to_pos:\n",
    "                break\n",
    "            while left_ptr < t30.shape[0] and t30[left_ptr] < t60[right_ptr]:\n",
    "                left_ptr += 1\n",
    "            left_ptr -= 1\n",
    "\n",
    "    for i in numba.prange(num_threads):\n",
    "        from_pos = i * batch_size\n",
    "        to_pos = min(from_pos + batch_size, t60.shape[0])\n",
    "        match_timestamps_block(from_pos, to_pos)\n",
    "        \n",
    "    return ans"
   ]
  },
  {
   "cell_type": "code",
   "execution_count": 29,
   "id": "330d7ec0",
   "metadata": {},
   "outputs": [
    {
     "name": "stdout",
     "output_type": "stream",
     "text": [
      "Total time: 0.00075 sec\n"
     ]
    }
   ],
   "source": [
    "n_times = 100\n",
    "video_length_sec = 4000\n",
    "timestamps_30fps = get_sample_timestamps(30, video_length_sec)\n",
    "timestamps_60fps = get_sample_timestamps(60, video_length_sec)\n",
    "match_timestamps(timestamps_30fps, timestamps_60fps)\n",
    "\n",
    "t0 = time.time()\n",
    "for _ in range(n_times):\n",
    "    match_timestamps(timestamps_30fps, timestamps_60fps)\n",
    "print(f\"Total time: {(time.time() - t0) / n_times:.5f} sec\")"
   ]
  },
  {
   "cell_type": "code",
   "execution_count": null,
   "id": "bed8aaaa",
   "metadata": {},
   "outputs": [],
   "source": []
  }
 ],
 "metadata": {
  "kernelspec": {
   "display_name": "Python 3.8.12 ('py38-vscode')",
   "language": "python",
   "name": "python3"
  },
  "language_info": {
   "codemirror_mode": {
    "name": "ipython",
    "version": 3
   },
   "file_extension": ".py",
   "mimetype": "text/x-python",
   "name": "python",
   "nbconvert_exporter": "python",
   "pygments_lexer": "ipython3",
   "version": "3.8.12"
  },
  "vscode": {
   "interpreter": {
    "hash": "3b1f1fe8ae7e4d3f967abb71a979100cdbe61d22c691d333da19cdeaf9153872"
   }
  }
 },
 "nbformat": 4,
 "nbformat_minor": 5
}
