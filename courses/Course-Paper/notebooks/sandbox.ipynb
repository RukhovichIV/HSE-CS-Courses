{
 "cells": [
  {
   "cell_type": "code",
   "execution_count": 1,
   "metadata": {},
   "outputs": [],
   "source": [
    "import numpy as np\n",
    "import pandas as pd\n",
    "from matplotlib import pyplot as plt\n",
    "from datetime import datetime, timedelta\n",
    "import networkx as nx\n",
    "from tqdm import tqdm\n",
    "\n",
    "np.set_printoptions(precision=4)\n",
    "pd.set_option(\"display.precision\", 4)"
   ]
  },
  {
   "cell_type": "code",
   "execution_count": 2,
   "metadata": {},
   "outputs": [],
   "source": [
    "years = 3\n",
    "date_to = \"30.05.2023\"\n",
    "\n",
    "imoex_shares_path = \"../data/tickers_info/imoex_shares.csv\"\n",
    "imoex_index_shares_path = \"../data/tickers_info/imoex_index_shares.csv\"\n",
    "imoex_index_tickers_path = \"../data/tickers_info/imoex_index_tickers.csv\"\n",
    "figi_load_path = \"../data/historical/figi_to_load.txt\"\n",
    "daily_data_folder = f\"../data/historical/daily_data_for_{years}_years_till_{datetime.strptime(date_to, '%d.%m.%Y').strftime('%Y-%m-%d')}/\"\n",
    "\n",
    "def daily_data_fname(ticker, uid):\n",
    "    return f\"{ticker}_{uid}.csv\""
   ]
  },
  {
   "cell_type": "code",
   "execution_count": 3,
   "metadata": {},
   "outputs": [
    {
     "data": {
      "text/html": [
       "<div>\n",
       "<style scoped>\n",
       "    .dataframe tbody tr th:only-of-type {\n",
       "        vertical-align: middle;\n",
       "    }\n",
       "\n",
       "    .dataframe tbody tr th {\n",
       "        vertical-align: top;\n",
       "    }\n",
       "\n",
       "    .dataframe thead th {\n",
       "        text-align: right;\n",
       "    }\n",
       "</style>\n",
       "<table border=\"1\" class=\"dataframe\">\n",
       "  <thead>\n",
       "    <tr style=\"text-align: right;\">\n",
       "      <th></th>\n",
       "      <th>figi</th>\n",
       "      <th>ticker</th>\n",
       "      <th>name</th>\n",
       "      <th>uid</th>\n",
       "    </tr>\n",
       "  </thead>\n",
       "  <tbody>\n",
       "    <tr>\n",
       "      <th>0</th>\n",
       "      <td>BBG000RMWQD4</td>\n",
       "      <td>ENPG</td>\n",
       "      <td>En+ Group</td>\n",
       "      <td>e2bd2eba-75de-4127-b39c-2f2dbe3866c3</td>\n",
       "    </tr>\n",
       "    <tr>\n",
       "      <th>1</th>\n",
       "      <td>BBG004PYF2N3</td>\n",
       "      <td>POLY</td>\n",
       "      <td>Polymetal</td>\n",
       "      <td>127361c2-32ec-448c-b3ec-602166f537ea</td>\n",
       "    </tr>\n",
       "    <tr>\n",
       "      <th>2</th>\n",
       "      <td>BBG004RVFCY3</td>\n",
       "      <td>MGNT</td>\n",
       "      <td>Магнит</td>\n",
       "      <td>ca845f68-6c43-44bc-b584-330d2a1e5eb7</td>\n",
       "    </tr>\n",
       "    <tr>\n",
       "      <th>3</th>\n",
       "      <td>BBG00ZHCX1X2</td>\n",
       "      <td>FIXP</td>\n",
       "      <td>Fix Price Group</td>\n",
       "      <td>ba64a3c7-dd1d-4f19-8758-94aac17d971b</td>\n",
       "    </tr>\n",
       "    <tr>\n",
       "      <th>4</th>\n",
       "      <td>BBG00178PGX3</td>\n",
       "      <td>VKCO</td>\n",
       "      <td>VK</td>\n",
       "      <td>3c0748ce-9b49-43e9-b788-048a6cb65174</td>\n",
       "    </tr>\n",
       "  </tbody>\n",
       "</table>\n",
       "</div>"
      ],
      "text/plain": [
       "           figi ticker             name                                   uid\n",
       "0  BBG000RMWQD4   ENPG        En+ Group  e2bd2eba-75de-4127-b39c-2f2dbe3866c3\n",
       "1  BBG004PYF2N3   POLY        Polymetal  127361c2-32ec-448c-b3ec-602166f537ea\n",
       "2  BBG004RVFCY3   MGNT           Магнит  ca845f68-6c43-44bc-b584-330d2a1e5eb7\n",
       "3  BBG00ZHCX1X2   FIXP  Fix Price Group  ba64a3c7-dd1d-4f19-8758-94aac17d971b\n",
       "4  BBG00178PGX3   VKCO               VK  3c0748ce-9b49-43e9-b788-048a6cb65174"
      ]
     },
     "execution_count": 3,
     "metadata": {},
     "output_type": "execute_result"
    }
   ],
   "source": [
    "shares_info = pd.read_csv(imoex_index_shares_path)\n",
    "shares_info.head(5)"
   ]
  },
  {
   "cell_type": "code",
   "execution_count": 45,
   "metadata": {},
   "outputs": [
    {
     "data": {
      "text/html": [
       "<div>\n",
       "<style scoped>\n",
       "    .dataframe tbody tr th:only-of-type {\n",
       "        vertical-align: middle;\n",
       "    }\n",
       "\n",
       "    .dataframe tbody tr th {\n",
       "        vertical-align: top;\n",
       "    }\n",
       "\n",
       "    .dataframe thead th {\n",
       "        text-align: right;\n",
       "    }\n",
       "</style>\n",
       "<table border=\"1\" class=\"dataframe\">\n",
       "  <thead>\n",
       "    <tr style=\"text-align: right;\">\n",
       "      <th></th>\n",
       "      <th>ENPG</th>\n",
       "      <th>POLY</th>\n",
       "      <th>MGNT</th>\n",
       "      <th>FIXP</th>\n",
       "      <th>VKCO</th>\n",
       "      <th>PHOR</th>\n",
       "      <th>AGRO</th>\n",
       "      <th>TATNP</th>\n",
       "      <th>MAGN</th>\n",
       "      <th>VTBR</th>\n",
       "      <th>...</th>\n",
       "      <th>AFKS</th>\n",
       "      <th>PLZL</th>\n",
       "      <th>OZON</th>\n",
       "      <th>LKOH</th>\n",
       "      <th>GLTR</th>\n",
       "      <th>SNGS</th>\n",
       "      <th>CBOM</th>\n",
       "      <th>PIKK</th>\n",
       "      <th>ROSN</th>\n",
       "      <th>CHMF</th>\n",
       "    </tr>\n",
       "  </thead>\n",
       "  <tbody>\n",
       "    <tr>\n",
       "      <th>2020-05-29</th>\n",
       "      <td>-0.0024</td>\n",
       "      <td>-0.0134</td>\n",
       "      <td>-0.0181</td>\n",
       "      <td>0.0000</td>\n",
       "      <td>0.0000</td>\n",
       "      <td>-0.0252</td>\n",
       "      <td>0.0000</td>\n",
       "      <td>-0.0373</td>\n",
       "      <td>-0.0261</td>\n",
       "      <td>0.0114</td>\n",
       "      <td>...</td>\n",
       "      <td>0.0200</td>\n",
       "      <td>0.0250</td>\n",
       "      <td>0.0000</td>\n",
       "      <td>-0.0256</td>\n",
       "      <td>0.0000</td>\n",
       "      <td>-0.0179</td>\n",
       "      <td>0.0140</td>\n",
       "      <td>0.0076</td>\n",
       "      <td>0.0045</td>\n",
       "      <td>-0.0017</td>\n",
       "    </tr>\n",
       "    <tr>\n",
       "      <th>2020-06-01</th>\n",
       "      <td>0.0114</td>\n",
       "      <td>-0.0215</td>\n",
       "      <td>0.0219</td>\n",
       "      <td>0.0000</td>\n",
       "      <td>0.0000</td>\n",
       "      <td>0.0057</td>\n",
       "      <td>0.0006</td>\n",
       "      <td>0.0037</td>\n",
       "      <td>0.0054</td>\n",
       "      <td>0.0060</td>\n",
       "      <td>...</td>\n",
       "      <td>0.0230</td>\n",
       "      <td>-0.0215</td>\n",
       "      <td>0.0000</td>\n",
       "      <td>-0.0059</td>\n",
       "      <td>0.0000</td>\n",
       "      <td>-0.0047</td>\n",
       "      <td>0.0031</td>\n",
       "      <td>-0.0205</td>\n",
       "      <td>-0.0034</td>\n",
       "      <td>-0.0017</td>\n",
       "    </tr>\n",
       "    <tr>\n",
       "      <th>2020-06-02</th>\n",
       "      <td>0.0072</td>\n",
       "      <td>-0.0027</td>\n",
       "      <td>0.0127</td>\n",
       "      <td>0.0000</td>\n",
       "      <td>0.0000</td>\n",
       "      <td>0.0011</td>\n",
       "      <td>-0.0018</td>\n",
       "      <td>-0.0019</td>\n",
       "      <td>0.0024</td>\n",
       "      <td>0.0118</td>\n",
       "      <td>...</td>\n",
       "      <td>0.0240</td>\n",
       "      <td>-0.0209</td>\n",
       "      <td>0.0000</td>\n",
       "      <td>0.0080</td>\n",
       "      <td>0.0000</td>\n",
       "      <td>0.0025</td>\n",
       "      <td>0.0085</td>\n",
       "      <td>0.0032</td>\n",
       "      <td>0.0169</td>\n",
       "      <td>0.0070</td>\n",
       "    </tr>\n",
       "    <tr>\n",
       "      <th>2020-06-03</th>\n",
       "      <td>-0.0056</td>\n",
       "      <td>-0.0574</td>\n",
       "      <td>-0.0116</td>\n",
       "      <td>0.0000</td>\n",
       "      <td>0.0000</td>\n",
       "      <td>0.0071</td>\n",
       "      <td>-0.0009</td>\n",
       "      <td>0.0281</td>\n",
       "      <td>0.0188</td>\n",
       "      <td>0.0193</td>\n",
       "      <td>...</td>\n",
       "      <td>-0.0145</td>\n",
       "      <td>-0.0365</td>\n",
       "      <td>0.0000</td>\n",
       "      <td>0.0183</td>\n",
       "      <td>0.0000</td>\n",
       "      <td>-0.0121</td>\n",
       "      <td>0.0044</td>\n",
       "      <td>0.0119</td>\n",
       "      <td>0.0173</td>\n",
       "      <td>0.0042</td>\n",
       "    </tr>\n",
       "    <tr>\n",
       "      <th>2020-06-04</th>\n",
       "      <td>-0.0443</td>\n",
       "      <td>-0.0036</td>\n",
       "      <td>-0.0088</td>\n",
       "      <td>0.0000</td>\n",
       "      <td>0.0000</td>\n",
       "      <td>-0.0074</td>\n",
       "      <td>-0.0223</td>\n",
       "      <td>-0.0128</td>\n",
       "      <td>-0.0018</td>\n",
       "      <td>-0.0190</td>\n",
       "      <td>...</td>\n",
       "      <td>0.0601</td>\n",
       "      <td>0.0184</td>\n",
       "      <td>0.0000</td>\n",
       "      <td>-0.0182</td>\n",
       "      <td>0.0000</td>\n",
       "      <td>0.0035</td>\n",
       "      <td>-0.0074</td>\n",
       "      <td>0.0134</td>\n",
       "      <td>-0.0164</td>\n",
       "      <td>-0.0099</td>\n",
       "    </tr>\n",
       "    <tr>\n",
       "      <th>...</th>\n",
       "      <td>...</td>\n",
       "      <td>...</td>\n",
       "      <td>...</td>\n",
       "      <td>...</td>\n",
       "      <td>...</td>\n",
       "      <td>...</td>\n",
       "      <td>...</td>\n",
       "      <td>...</td>\n",
       "      <td>...</td>\n",
       "      <td>...</td>\n",
       "      <td>...</td>\n",
       "      <td>...</td>\n",
       "      <td>...</td>\n",
       "      <td>...</td>\n",
       "      <td>...</td>\n",
       "      <td>...</td>\n",
       "      <td>...</td>\n",
       "      <td>...</td>\n",
       "      <td>...</td>\n",
       "      <td>...</td>\n",
       "      <td>...</td>\n",
       "    </tr>\n",
       "    <tr>\n",
       "      <th>2023-05-25</th>\n",
       "      <td>-0.0108</td>\n",
       "      <td>-0.0370</td>\n",
       "      <td>-0.0351</td>\n",
       "      <td>-0.0133</td>\n",
       "      <td>-0.0048</td>\n",
       "      <td>-0.0095</td>\n",
       "      <td>0.0111</td>\n",
       "      <td>-0.0053</td>\n",
       "      <td>0.0085</td>\n",
       "      <td>-0.0161</td>\n",
       "      <td>...</td>\n",
       "      <td>-0.0039</td>\n",
       "      <td>-0.0095</td>\n",
       "      <td>-0.0019</td>\n",
       "      <td>0.0011</td>\n",
       "      <td>-0.0003</td>\n",
       "      <td>-0.0064</td>\n",
       "      <td>-0.0215</td>\n",
       "      <td>-0.0024</td>\n",
       "      <td>-0.0176</td>\n",
       "      <td>0.0127</td>\n",
       "    </tr>\n",
       "    <tr>\n",
       "      <th>2023-05-26</th>\n",
       "      <td>-0.0054</td>\n",
       "      <td>0.0355</td>\n",
       "      <td>0.0248</td>\n",
       "      <td>0.0023</td>\n",
       "      <td>0.0329</td>\n",
       "      <td>0.0106</td>\n",
       "      <td>0.0331</td>\n",
       "      <td>0.0051</td>\n",
       "      <td>-0.0060</td>\n",
       "      <td>0.0058</td>\n",
       "      <td>...</td>\n",
       "      <td>0.0034</td>\n",
       "      <td>0.0130</td>\n",
       "      <td>-0.0056</td>\n",
       "      <td>0.0171</td>\n",
       "      <td>-0.0017</td>\n",
       "      <td>0.0075</td>\n",
       "      <td>-0.0086</td>\n",
       "      <td>0.0150</td>\n",
       "      <td>0.0094</td>\n",
       "      <td>-0.0042</td>\n",
       "    </tr>\n",
       "    <tr>\n",
       "      <th>2023-05-27</th>\n",
       "      <td>-0.0027</td>\n",
       "      <td>-0.0045</td>\n",
       "      <td>0.0090</td>\n",
       "      <td>0.0000</td>\n",
       "      <td>0.0108</td>\n",
       "      <td>0.0125</td>\n",
       "      <td>-0.0020</td>\n",
       "      <td>0.0091</td>\n",
       "      <td>-0.0018</td>\n",
       "      <td>-0.0066</td>\n",
       "      <td>...</td>\n",
       "      <td>-0.0042</td>\n",
       "      <td>0.0093</td>\n",
       "      <td>0.0070</td>\n",
       "      <td>0.0083</td>\n",
       "      <td>0.0000</td>\n",
       "      <td>-0.0063</td>\n",
       "      <td>0.0009</td>\n",
       "      <td>0.0004</td>\n",
       "      <td>0.0030</td>\n",
       "      <td>-0.0042</td>\n",
       "    </tr>\n",
       "    <tr>\n",
       "      <th>2023-05-28</th>\n",
       "      <td>0.0110</td>\n",
       "      <td>0.0003</td>\n",
       "      <td>-0.0140</td>\n",
       "      <td>0.0000</td>\n",
       "      <td>0.0011</td>\n",
       "      <td>-0.0117</td>\n",
       "      <td>-0.0071</td>\n",
       "      <td>-0.0071</td>\n",
       "      <td>-0.0072</td>\n",
       "      <td>-0.0073</td>\n",
       "      <td>...</td>\n",
       "      <td>-0.0037</td>\n",
       "      <td>-0.0018</td>\n",
       "      <td>-0.0066</td>\n",
       "      <td>-0.0063</td>\n",
       "      <td>0.0000</td>\n",
       "      <td>0.0008</td>\n",
       "      <td>-0.0005</td>\n",
       "      <td>0.0006</td>\n",
       "      <td>-0.0005</td>\n",
       "      <td>0.0020</td>\n",
       "    </tr>\n",
       "    <tr>\n",
       "      <th>2023-05-29</th>\n",
       "      <td>0.0145</td>\n",
       "      <td>0.0407</td>\n",
       "      <td>-0.0070</td>\n",
       "      <td>0.0410</td>\n",
       "      <td>0.0497</td>\n",
       "      <td>-0.0023</td>\n",
       "      <td>0.0189</td>\n",
       "      <td>0.0186</td>\n",
       "      <td>0.0218</td>\n",
       "      <td>-0.0121</td>\n",
       "      <td>...</td>\n",
       "      <td>0.0182</td>\n",
       "      <td>0.0510</td>\n",
       "      <td>0.0019</td>\n",
       "      <td>0.0370</td>\n",
       "      <td>0.0263</td>\n",
       "      <td>0.0120</td>\n",
       "      <td>-0.0017</td>\n",
       "      <td>0.0225</td>\n",
       "      <td>0.0106</td>\n",
       "      <td>0.0154</td>\n",
       "    </tr>\n",
       "  </tbody>\n",
       "</table>\n",
       "<p>798 rows × 40 columns</p>\n",
       "</div>"
      ],
      "text/plain": [
       "              ENPG    POLY    MGNT    FIXP    VKCO    PHOR    AGRO   TATNP  \\\n",
       "2020-05-29 -0.0024 -0.0134 -0.0181  0.0000  0.0000 -0.0252  0.0000 -0.0373   \n",
       "2020-06-01  0.0114 -0.0215  0.0219  0.0000  0.0000  0.0057  0.0006  0.0037   \n",
       "2020-06-02  0.0072 -0.0027  0.0127  0.0000  0.0000  0.0011 -0.0018 -0.0019   \n",
       "2020-06-03 -0.0056 -0.0574 -0.0116  0.0000  0.0000  0.0071 -0.0009  0.0281   \n",
       "2020-06-04 -0.0443 -0.0036 -0.0088  0.0000  0.0000 -0.0074 -0.0223 -0.0128   \n",
       "...            ...     ...     ...     ...     ...     ...     ...     ...   \n",
       "2023-05-25 -0.0108 -0.0370 -0.0351 -0.0133 -0.0048 -0.0095  0.0111 -0.0053   \n",
       "2023-05-26 -0.0054  0.0355  0.0248  0.0023  0.0329  0.0106  0.0331  0.0051   \n",
       "2023-05-27 -0.0027 -0.0045  0.0090  0.0000  0.0108  0.0125 -0.0020  0.0091   \n",
       "2023-05-28  0.0110  0.0003 -0.0140  0.0000  0.0011 -0.0117 -0.0071 -0.0071   \n",
       "2023-05-29  0.0145  0.0407 -0.0070  0.0410  0.0497 -0.0023  0.0189  0.0186   \n",
       "\n",
       "              MAGN    VTBR  ...    AFKS    PLZL    OZON    LKOH    GLTR  \\\n",
       "2020-05-29 -0.0261  0.0114  ...  0.0200  0.0250  0.0000 -0.0256  0.0000   \n",
       "2020-06-01  0.0054  0.0060  ...  0.0230 -0.0215  0.0000 -0.0059  0.0000   \n",
       "2020-06-02  0.0024  0.0118  ...  0.0240 -0.0209  0.0000  0.0080  0.0000   \n",
       "2020-06-03  0.0188  0.0193  ... -0.0145 -0.0365  0.0000  0.0183  0.0000   \n",
       "2020-06-04 -0.0018 -0.0190  ...  0.0601  0.0184  0.0000 -0.0182  0.0000   \n",
       "...            ...     ...  ...     ...     ...     ...     ...     ...   \n",
       "2023-05-25  0.0085 -0.0161  ... -0.0039 -0.0095 -0.0019  0.0011 -0.0003   \n",
       "2023-05-26 -0.0060  0.0058  ...  0.0034  0.0130 -0.0056  0.0171 -0.0017   \n",
       "2023-05-27 -0.0018 -0.0066  ... -0.0042  0.0093  0.0070  0.0083  0.0000   \n",
       "2023-05-28 -0.0072 -0.0073  ... -0.0037 -0.0018 -0.0066 -0.0063  0.0000   \n",
       "2023-05-29  0.0218 -0.0121  ...  0.0182  0.0510  0.0019  0.0370  0.0263   \n",
       "\n",
       "              SNGS    CBOM    PIKK    ROSN    CHMF  \n",
       "2020-05-29 -0.0179  0.0140  0.0076  0.0045 -0.0017  \n",
       "2020-06-01 -0.0047  0.0031 -0.0205 -0.0034 -0.0017  \n",
       "2020-06-02  0.0025  0.0085  0.0032  0.0169  0.0070  \n",
       "2020-06-03 -0.0121  0.0044  0.0119  0.0173  0.0042  \n",
       "2020-06-04  0.0035 -0.0074  0.0134 -0.0164 -0.0099  \n",
       "...            ...     ...     ...     ...     ...  \n",
       "2023-05-25 -0.0064 -0.0215 -0.0024 -0.0176  0.0127  \n",
       "2023-05-26  0.0075 -0.0086  0.0150  0.0094 -0.0042  \n",
       "2023-05-27 -0.0063  0.0009  0.0004  0.0030 -0.0042  \n",
       "2023-05-28  0.0008 -0.0005  0.0006 -0.0005  0.0020  \n",
       "2023-05-29  0.0120 -0.0017  0.0225  0.0106  0.0154  \n",
       "\n",
       "[798 rows x 40 columns]"
      ]
     },
     "execution_count": 45,
     "metadata": {},
     "output_type": "execute_result"
    }
   ],
   "source": [
    "common_df = None\n",
    "for idx, info in shares_info.iterrows():\n",
    "    cur_df = pd.read_csv(daily_data_folder + daily_data_fname(info[\"ticker\"], info[\"uid\"]), index_col=0)\n",
    "    cur_df.index = pd.to_datetime(cur_df.index)\n",
    "    # From book\n",
    "    # cur_df = pd.DataFrame(np.log(cur_df[\"close\"] / cur_df[\"open\"]), columns=[info[\"ticker\"]])\n",
    "    # Diff\n",
    "    cur_df = pd.DataFrame((cur_df[\"close\"] - cur_df[\"open\"]) / cur_df[\"open\"], columns=[info[\"ticker\"]])\n",
    "    if common_df is None:\n",
    "        common_df = cur_df\n",
    "    else:\n",
    "        common_df = common_df.join(cur_df)\n",
    "common_df = common_df.fillna(0).sort_index()\n",
    "common_df"
   ]
  },
  {
   "cell_type": "code",
   "execution_count": 46,
   "metadata": {},
   "outputs": [
    {
     "data": {
      "text/plain": [
       "<matplotlib.image.AxesImage at 0x7efb1aa44d90>"
      ]
     },
     "execution_count": 46,
     "metadata": {},
     "output_type": "execute_result"
    },
    {
     "data": {
      "image/png": "[encoded data removed]",
      "text/plain": [
       "<Figure size 288x288 with 1 Axes>"
      ]
     },
     "metadata": {
      "needs_background": "light"
     },
     "output_type": "display_data"
    }
   ],
   "source": [
    "common_edges = common_df.tail(30).corr(method=\"kendall\").values\n",
    "np.fill_diagonal(common_edges, 0)\n",
    "plt.matshow(common_edges)"
   ]
  },
  {
   "cell_type": "code",
   "execution_count": 47,
   "metadata": {},
   "outputs": [
    {
     "name": "stdout",
     "output_type": "stream",
     "text": [
      "We have data from 2020-05-29 to 2023-05-29 inclusive\n"
     ]
    }
   ],
   "source": [
    "date_min = common_df.index.min()\n",
    "date_max = common_df.index.max()\n",
    "print(f\"We have data from {date_min.date()} to {date_max.date()} inclusive\")"
   ]
  },
  {
   "cell_type": "code",
   "execution_count": 48,
   "metadata": {},
   "outputs": [
    {
     "data": {
      "text/plain": [
       "[(Timestamp('2022-12-15 00:00:00'), Timestamp('2023-01-14 00:00:00')),\n",
       " (Timestamp('2023-01-14 00:00:00'), Timestamp('2023-02-13 00:00:00')),\n",
       " (Timestamp('2023-02-13 00:00:00'), Timestamp('2023-03-15 00:00:00')),\n",
       " (Timestamp('2023-03-15 00:00:00'), Timestamp('2023-04-14 00:00:00')),\n",
       " (Timestamp('2023-04-14 00:00:00'), Timestamp('2023-05-14 00:00:00'))]"
      ]
     },
     "execution_count": 48,
     "metadata": {},
     "output_type": "execute_result"
    }
   ],
   "source": [
    "# Choosing periods for market graphs. Let's take it monthly, yearly and overall. First inclusive, second exclusive\n",
    "\n",
    "periods = []\n",
    "\n",
    "# Overall period\n",
    "periods.append((date_min, date_max + timedelta(days=1)))\n",
    "\n",
    "# Yearly periods\n",
    "period = timedelta(days=365)\n",
    "d_start_tmp = date_min\n",
    "while d_start_tmp + period < date_max:\n",
    "    periods.append((d_start_tmp, d_start_tmp + period))\n",
    "    d_start_tmp += period\n",
    "if d_start_tmp + period - date_max < timedelta(days=10):\n",
    "    periods.append((d_start_tmp, date_max + timedelta(days=1)))\n",
    "\n",
    "# Monthly periods\n",
    "period = timedelta(days=30)\n",
    "d_start_tmp = date_min\n",
    "while d_start_tmp + period < date_max:\n",
    "    periods.append((d_start_tmp, d_start_tmp + period))\n",
    "    d_start_tmp += period\n",
    "if d_start_tmp + period - date_max < timedelta(days=10):\n",
    "    periods.append((d_start_tmp, date_max + timedelta(days=1)))\n",
    "\n",
    "periods[-5:]"
   ]
  },
  {
   "cell_type": "code",
   "execution_count": 96,
   "metadata": {},
   "outputs": [
    {
     "name": "stderr",
     "output_type": "stream",
     "text": [
      "  0%|          | 0/40 [00:00<?, ?it/s]"
     ]
    },
    {
     "name": "stdout",
     "output_type": "stream",
     "text": [
      "[]\n"
     ]
    },
    {
     "name": "stderr",
     "output_type": "stream",
     "text": [
      "\n"
     ]
    },
    {
     "data": {
      "image/png": "[encoded data removed]",
      "text/plain": [
       "<Figure size 432x288 with 1 Axes>"
      ]
     },
     "metadata": {},
     "output_type": "display_data"
    }
   ],
   "source": [
    "threshold = 0.5\n",
    "\n",
    "cliques = []\n",
    "for period in tqdm(periods[::-1]):\n",
    "    # Calculating Kendall correlation\n",
    "    sub_df = common_df.loc[(period[0] <= common_df.index) & (common_df.index < period[1])]\n",
    "    vertices = sub_df.columns\n",
    "    edges = np.abs(sub_df.corr(method=\"kendall\"))\n",
    "\n",
    "    # Building a threshold market graph\n",
    "    np.fill_diagonal(edges.values, 0)\n",
    "    G = nx.Graph()\n",
    "    G.add_nodes_from(vertices)\n",
    "    for i in range(edges.shape[0]):\n",
    "        for j in range(i+1, edges.shape[0]):\n",
    "            if edges.values[i, j] > threshold:\n",
    "                G.add_edge(vertices[i], vertices[j])\n",
    "    \n",
    "    # Finding a maximum clique\n",
    "    cliques.append(nx.approximation.max_clique(G))\n",
    "    break\n",
    "print(cliques[:-1])\n",
    "nx.draw(G, with_labels=True)"
   ]
  },
  {
   "cell_type": "code",
   "execution_count": 44,
   "metadata": {},
   "outputs": [
    {
     "data": {
      "text/plain": [
       "[{'IRAO', 'MTSS', 'PLZL', 'RUAL', 'SBER', 'SBERP', 'TATN'},\n",
       " {'CHMF',\n",
       "  'GAZP',\n",
       "  'IRAO',\n",
       "  'LKOH',\n",
       "  'ROSN',\n",
       "  'SBER',\n",
       "  'SBERP',\n",
       "  'TATN',\n",
       "  'TATNP',\n",
       "  'VTBR'},\n",
       " {'AFLT',\n",
       "  'CHMF',\n",
       "  'GAZP',\n",
       "  'GMKN',\n",
       "  'MOEX',\n",
       "  'SBER',\n",
       "  'SBERP',\n",
       "  'SNGS',\n",
       "  'TATN',\n",
       "  'TRNFP'},\n",
       " {'AFLT',\n",
       "  'CHMF',\n",
       "  'GAZP',\n",
       "  'HYDR',\n",
       "  'IRAO',\n",
       "  'LKOH',\n",
       "  'NLMK',\n",
       "  'SBER',\n",
       "  'SBERP',\n",
       "  'SNGS',\n",
       "  'TATN',\n",
       "  'TRNFP'},\n",
       " {'AFLT', 'LKOH', 'MAGN', 'ROSN', 'SBER', 'SBERP', 'TATNP', 'VTBR'},\n",
       " {'ALRS',\n",
       "  'CBOM',\n",
       "  'GAZP',\n",
       "  'GMKN',\n",
       "  'LKOH',\n",
       "  'NVTK',\n",
       "  'ROSN',\n",
       "  'SNGS',\n",
       "  'TATN',\n",
       "  'TATNP',\n",
       "  'VTBR'},\n",
       " {'CHMF', 'ENPG', 'LKOH', 'MAGN', 'NVTK', 'ROSN', 'SNGS', 'TATN', 'TATNP'},\n",
       " {'AFLT',\n",
       "  'ENPG',\n",
       "  'GAZP',\n",
       "  'GMKN',\n",
       "  'IRAO',\n",
       "  'MGNT',\n",
       "  'MTSS',\n",
       "  'RUAL',\n",
       "  'SBER',\n",
       "  'SBERP',\n",
       "  'SNGS',\n",
       "  'TATN',\n",
       "  'YNDX'},\n",
       " {'AFKS',\n",
       "  'AFLT',\n",
       "  'GAZP',\n",
       "  'IRAO',\n",
       "  'NLMK',\n",
       "  'NVTK',\n",
       "  'SBER',\n",
       "  'SBERP',\n",
       "  'SNGS',\n",
       "  'SNGSP',\n",
       "  'TATN',\n",
       "  'TATNP',\n",
       "  'VTBR'},\n",
       " {'GAZP', 'LKOH', 'NVTK', 'SBERP', 'SNGS', 'TATN', 'VTBR'},\n",
       " {'CHMF',\n",
       "  'ENPG',\n",
       "  'GMKN',\n",
       "  'LKOH',\n",
       "  'MAGN',\n",
       "  'NLMK',\n",
       "  'NVTK',\n",
       "  'RUAL',\n",
       "  'SBER',\n",
       "  'SBERP'},\n",
       " {'AFLT', 'ENPG', 'SBERP', 'TATN', 'TATNP', 'TCSG'}]"
      ]
     },
     "execution_count": 44,
     "metadata": {},
     "output_type": "execute_result"
    }
   ],
   "source": [
    "cliques[4:4+12]"
   ]
  },
  {
   "cell_type": "code",
   "execution_count": 97,
   "metadata": {},
   "outputs": [
    {
     "data": {
      "image/png": "[encoded data removed]",
      "text/plain": [
       "<Figure size 432x288 with 1 Axes>"
      ]
     },
     "metadata": {},
     "output_type": "display_data"
    }
   ],
   "source": [
    "nx.draw_circular(G.subgraph(nx.approximation.max_clique(G)), with_labels=True)"
   ]
  },
  {
   "cell_type": "code",
   "execution_count": 102,
   "metadata": {},
   "outputs": [
    {
     "data": {
      "image/png": "[encoded data removed]",
      "text/plain": [
       "<Figure size 432x288 with 1 Axes>"
      ]
     },
     "metadata": {},
     "output_type": "display_data"
    },
    {
     "data": {
      "image/png": "[encoded data removed]",
      "text/plain": [
       "<Figure size 432x288 with 1 Axes>"
      ]
     },
     "metadata": {},
     "output_type": "display_data"
    },
    {
     "data": {
      "image/png": "[encoded data removed]",
      "text/plain": [
       "<Figure size 432x288 with 1 Axes>"
      ]
     },
     "metadata": {},
     "output_type": "display_data"
    },
    {
     "data": {
      "image/png": "[encoded data removed]",
      "text/plain": [
       "<Figure size 432x288 with 1 Axes>"
      ]
     },
     "metadata": {},
     "output_type": "display_data"
    },
    {
     "data": {
      "image/png": "[encoded data removed]",
      "text/plain": [
       "<Figure size 432x288 with 1 Axes>"
      ]
     },
     "metadata": {},
     "output_type": "display_data"
    },
    {
     "data": {
      "image/png": "[encoded data removed]",
      "text/plain": [
       "<Figure size 432x288 with 1 Axes>"
      ]
     },
     "metadata": {},
     "output_type": "display_data"
    },
    {
     "data": {
      "image/png": "[encoded data removed]",
      "text/plain": [
       "<Figure size 432x288 with 1 Axes>"
      ]
     },
     "metadata": {},
     "output_type": "display_data"
    },
    {
     "data": {
      "image/png": "[encoded data removed]",
      "text/plain": [
       "<Figure size 432x288 with 1 Axes>"
      ]
     },
     "metadata": {},
     "output_type": "display_data"
    },
    {
     "data": {
      "image/png": "[encoded data removed]",
      "text/plain": [
       "<Figure size 432x288 with 1 Axes>"
      ]
     },
     "metadata": {},
     "output_type": "display_data"
    },
    {
     "data": {
      "image/png": "[encoded data removed]",
      "text/plain": [
       "<Figure size 432x288 with 1 Axes>"
      ]
     },
     "metadata": {},
     "output_type": "display_data"
    },
    {
     "data": {
      "image/png": "[encoded data removed]",
      "text/plain": [
       "<Figure size 432x288 with 1 Axes>"
      ]
     },
     "metadata": {},
     "output_type": "display_data"
    }
   ],
   "source": [
    "for i, component in enumerate(nx.connected_components(G)):\n",
    "    nx.draw_spring(G.subgraph(component), with_labels=True)\n",
    "    plt.pause(0.05)\n",
    "    if i == 10:\n",
    "        break"
   ]
  },
  {
   "cell_type": "code",
   "execution_count": null,
   "metadata": {},
   "outputs": [],
   "source": []
  }
 ],
 "metadata": {
  "kernelspec": {
   "display_name": "py38",
   "language": "python",
   "name": "python3"
  },
  "language_info": {
   "codemirror_mode": {
    "name": "ipython",
    "version": 3
   },
   "file_extension": ".py",
   "mimetype": "text/x-python",
   "name": "python",
   "nbconvert_exporter": "python",
   "pygments_lexer": "ipython3",
   "version": "3.8.13"
  },
  "orig_nbformat": 4
 },
 "nbformat": 4,
 "nbformat_minor": 2
}
