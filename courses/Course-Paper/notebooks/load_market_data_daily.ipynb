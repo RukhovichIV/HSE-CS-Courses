{
 "cells": [
  {
   "cell_type": "code",
   "execution_count": 14,
   "metadata": {},
   "outputs": [],
   "source": [
    "import numpy as np\n",
    "import pandas as pd\n",
    "import os\n",
    "from dotenv import load_dotenv\n",
    "from datetime import timedelta, datetime\n",
    "import time\n",
    "from tqdm import tqdm\n",
    "\n",
    "\n",
    "from tinkoff.invest import CandleInterval, Client\n",
    "from tinkoff.invest.utils import now\n",
    "from tinkoff.invest.schemas import InstrumentStatus, Quotation\n",
    "from tinkoff.invest.constants import INVEST_GRPC_API"
   ]
  },
  {
   "cell_type": "code",
   "execution_count": 2,
   "metadata": {},
   "outputs": [],
   "source": [
    "# Load secrets\n",
    "\n",
    "load_dotenv(\"../secrets.env\")\n",
    "\n",
    "token_ro = os.getenv(\"TINKOFF_TOKEN_RO\")"
   ]
  },
  {
   "cell_type": "code",
   "execution_count": 34,
   "metadata": {},
   "outputs": [],
   "source": [
    "years_needed = 3\n",
    "\n",
    "def quot_to_price(quot: Quotation):\n",
    "    return float(f\"{quot.units}.{quot.nano}\")\n",
    "\n",
    "imoex_shares_path = \"../data/tickers_info/imoex_shares.csv\"\n",
    "imoex_index_shares_path = \"../data/tickers_info/imoex_index_shares.csv\"\n",
    "imoex_index_tickers_path = \"../data/tickers_info/imoex_index_tickers.csv\"\n",
    "figi_load_path = \"../data/historical/figi_to_load.txt\"\n",
    "daily_data_folder = f\"../data/historical/daily_data_for_{years_needed}_years_till_{datetime.today().strftime('%Y-%m-%d')}/\"\n",
    "\n",
    "def daily_data_fname(ticker, uid):\n",
    "    return f\"{ticker}_{uid}.csv\""
   ]
  },
  {
   "cell_type": "code",
   "execution_count": 35,
   "metadata": {},
   "outputs": [],
   "source": [
    "_client = Client(token_ro, target=INVEST_GRPC_API)\n",
    "client = _client.__enter__()"
   ]
  },
  {
   "cell_type": "code",
   "execution_count": 36,
   "metadata": {},
   "outputs": [
    {
     "data": {
      "text/html": [
       "<div>\n",
       "<style scoped>\n",
       "    .dataframe tbody tr th:only-of-type {\n",
       "        vertical-align: middle;\n",
       "    }\n",
       "\n",
       "    .dataframe tbody tr th {\n",
       "        vertical-align: top;\n",
       "    }\n",
       "\n",
       "    .dataframe thead th {\n",
       "        text-align: right;\n",
       "    }\n",
       "</style>\n",
       "<table border=\"1\" class=\"dataframe\">\n",
       "  <thead>\n",
       "    <tr style=\"text-align: right;\">\n",
       "      <th></th>\n",
       "      <th>figi</th>\n",
       "      <th>ticker</th>\n",
       "      <th>name</th>\n",
       "      <th>uid</th>\n",
       "    </tr>\n",
       "  </thead>\n",
       "  <tbody>\n",
       "    <tr>\n",
       "      <th>0</th>\n",
       "      <td>BBG000RMWQD4</td>\n",
       "      <td>ENPG</td>\n",
       "      <td>En+ Group</td>\n",
       "      <td>e2bd2eba-75de-4127-b39c-2f2dbe3866c3</td>\n",
       "    </tr>\n",
       "    <tr>\n",
       "      <th>1</th>\n",
       "      <td>BBG004PYF2N3</td>\n",
       "      <td>POLY</td>\n",
       "      <td>Polymetal</td>\n",
       "      <td>127361c2-32ec-448c-b3ec-602166f537ea</td>\n",
       "    </tr>\n",
       "    <tr>\n",
       "      <th>2</th>\n",
       "      <td>BBG004RVFCY3</td>\n",
       "      <td>MGNT</td>\n",
       "      <td>Магнит</td>\n",
       "      <td>ca845f68-6c43-44bc-b584-330d2a1e5eb7</td>\n",
       "    </tr>\n",
       "    <tr>\n",
       "      <th>3</th>\n",
       "      <td>BBG00ZHCX1X2</td>\n",
       "      <td>FIXP</td>\n",
       "      <td>Fix Price Group</td>\n",
       "      <td>ba64a3c7-dd1d-4f19-8758-94aac17d971b</td>\n",
       "    </tr>\n",
       "    <tr>\n",
       "      <th>4</th>\n",
       "      <td>BBG00178PGX3</td>\n",
       "      <td>VKCO</td>\n",
       "      <td>VK</td>\n",
       "      <td>3c0748ce-9b49-43e9-b788-048a6cb65174</td>\n",
       "    </tr>\n",
       "  </tbody>\n",
       "</table>\n",
       "</div>"
      ],
      "text/plain": [
       "           figi ticker             name                                   uid\n",
       "0  BBG000RMWQD4   ENPG        En+ Group  e2bd2eba-75de-4127-b39c-2f2dbe3866c3\n",
       "1  BBG004PYF2N3   POLY        Polymetal  127361c2-32ec-448c-b3ec-602166f537ea\n",
       "2  BBG004RVFCY3   MGNT           Магнит  ca845f68-6c43-44bc-b584-330d2a1e5eb7\n",
       "3  BBG00ZHCX1X2   FIXP  Fix Price Group  ba64a3c7-dd1d-4f19-8758-94aac17d971b\n",
       "4  BBG00178PGX3   VKCO               VK  3c0748ce-9b49-43e9-b788-048a6cb65174"
      ]
     },
     "execution_count": 36,
     "metadata": {},
     "output_type": "execute_result"
    }
   ],
   "source": [
    "shares = pd.read_csv(imoex_index_shares_path)\n",
    "shares.head(5)"
   ]
  },
  {
   "cell_type": "code",
   "execution_count": 37,
   "metadata": {},
   "outputs": [],
   "source": [
    "!mkdir $daily_data_folder"
   ]
  },
  {
   "cell_type": "code",
   "execution_count": 38,
   "metadata": {},
   "outputs": [
    {
     "name": "stderr",
     "output_type": "stream",
     "text": [
      "40it [00:04,  8.23it/s]\n"
     ]
    }
   ],
   "source": [
    "for idx, row in tqdm(shares.iterrows()):\n",
    "    share_data = {}\n",
    "    to_s = [now() - timedelta(days=365 * i) for i in range(0, years_needed)]\n",
    "    for to in to_s:\n",
    "        candles = None\n",
    "        while candles is None:\n",
    "            try:\n",
    "                candles = client.market_data.get_candles(from_=to - timedelta(days=365),\n",
    "                                                         to=to,\n",
    "                                                         interval=CandleInterval.CANDLE_INTERVAL_DAY,\n",
    "                                                         instrument_id=row[\"uid\"]).candles\n",
    "            except:\n",
    "                print(\"Too many requests. Sleeping for 5 seconds.\")\n",
    "                time.sleep(5)\n",
    "\n",
    "        for candle in candles:\n",
    "            share_data[candle.time.date()] = [quot_to_price(candle.open),\n",
    "                                              quot_to_price(candle.close)]\n",
    "    share_df = pd.DataFrame.from_dict(share_data, orient=\"index\", columns=[\"open\", \"close\"]).sort_index()\n",
    "    share_df.to_csv(daily_data_folder + daily_data_fname(row[\"ticker\"], row[\"uid\"]))\n"
   ]
  },
  {
   "cell_type": "code",
   "execution_count": 39,
   "metadata": {},
   "outputs": [
    {
     "data": {
      "text/plain": [
       "False"
      ]
     },
     "execution_count": 39,
     "metadata": {},
     "output_type": "execute_result"
    }
   ],
   "source": [
    "_client.__exit__(None, None, None)"
   ]
  },
  {
   "cell_type": "code",
   "execution_count": null,
   "metadata": {},
   "outputs": [],
   "source": []
  }
 ],
 "metadata": {
  "kernelspec": {
   "display_name": "py38",
   "language": "python",
   "name": "python3"
  },
  "language_info": {
   "codemirror_mode": {
    "name": "ipython",
    "version": 3
   },
   "file_extension": ".py",
   "mimetype": "text/x-python",
   "name": "python",
   "nbconvert_exporter": "python",
   "pygments_lexer": "ipython3",
   "version": "3.8.13"
  },
  "orig_nbformat": 4
 },
 "nbformat": 4,
 "nbformat_minor": 2
}
