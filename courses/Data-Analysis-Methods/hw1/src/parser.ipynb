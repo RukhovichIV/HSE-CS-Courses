{
 "cells": [
  {
   "cell_type": "code",
   "execution_count": 7,
   "metadata": {},
   "outputs": [],
   "source": [
    "import numpy as np\n",
    "import pandas as pd\n",
    "from matplotlib import pyplot as plt\n",
    "import seaborn as sns"
   ]
  },
  {
   "cell_type": "code",
   "execution_count": 11,
   "metadata": {},
   "outputs": [],
   "source": [
    "data_path = \"../data/xls/\"\n",
    "filename = lambda number: f\"22MAG_HW_1_v{number}.xls\"\n",
    "variants = range(1, 16)\n",
    "columns = [\n",
    "    \"Age (years)\",\n",
    "    \"Family size\",\n",
    "    \"Monthly income (RUB)\",\n",
    "    \"Residence in the region (years)\",\n",
    "    \"Car valuation (USD)\",\n",
    "    \"Loan amount (x1000 RUB)\",\n",
    "]\n",
    "dtypes = [\n",
    "    int,\n",
    "    int,\n",
    "    float,\n",
    "    float,\n",
    "    float,\n",
    "    int,\n",
    "]\n",
    "types_dict = {elem[0]: elem[1] for elem in zip(columns, dtypes)}\n",
    "\n",
    "def read_specific_variant(number: int) -> pd.DataFrame:\n",
    "    return pd.read_excel(data_path + filename(number), header=None, names=columns)\n",
    "\n",
    "def read_all_variants() -> pd.DataFrame:\n",
    "    result = pd.DataFrame(columns=columns)\n",
    "    for var in variants:\n",
    "        add = read_specific_variant(var)\n",
    "        result = result.append(add, ignore_index=True)\n",
    "    result = result.copy()\n",
    "    return result"
   ]
  },
  {
   "cell_type": "code",
   "execution_count": 12,
   "metadata": {},
   "outputs": [
    {
     "data": {
      "text/html": [
       "<div>\n",
       "<style scoped>\n",
       "    .dataframe tbody tr th:only-of-type {\n",
       "        vertical-align: middle;\n",
       "    }\n",
       "\n",
       "    .dataframe tbody tr th {\n",
       "        vertical-align: top;\n",
       "    }\n",
       "\n",
       "    .dataframe thead th {\n",
       "        text-align: right;\n",
       "    }\n",
       "</style>\n",
       "<table border=\"1\" class=\"dataframe\">\n",
       "  <thead>\n",
       "    <tr style=\"text-align: right;\">\n",
       "      <th></th>\n",
       "      <th>Age (years)</th>\n",
       "      <th>Family size</th>\n",
       "      <th>Monthly income (RUB)</th>\n",
       "      <th>Residence in the region (years)</th>\n",
       "      <th>Car valuation (USD)</th>\n",
       "      <th>Loan amount (x1000 RUB)</th>\n",
       "    </tr>\n",
       "  </thead>\n",
       "  <tbody>\n",
       "    <tr>\n",
       "      <th>0</th>\n",
       "      <td>38.0</td>\n",
       "      <td>2.0</td>\n",
       "      <td>22600.0</td>\n",
       "      <td>8.0</td>\n",
       "      <td>22000.0</td>\n",
       "      <td>NaN</td>\n",
       "    </tr>\n",
       "    <tr>\n",
       "      <th>1</th>\n",
       "      <td>47.0</td>\n",
       "      <td>2.0</td>\n",
       "      <td>11200.0</td>\n",
       "      <td>14.0</td>\n",
       "      <td>12000.0</td>\n",
       "      <td>119000.0</td>\n",
       "    </tr>\n",
       "    <tr>\n",
       "      <th>2</th>\n",
       "      <td>NaN</td>\n",
       "      <td>2.0</td>\n",
       "      <td>22500.0</td>\n",
       "      <td>9.0</td>\n",
       "      <td>22000.0</td>\n",
       "      <td>224000.0</td>\n",
       "    </tr>\n",
       "    <tr>\n",
       "      <th>3</th>\n",
       "      <td>51.0</td>\n",
       "      <td>3.0</td>\n",
       "      <td>16000.0</td>\n",
       "      <td>17.0</td>\n",
       "      <td>18000.0</td>\n",
       "      <td>173000.0</td>\n",
       "    </tr>\n",
       "    <tr>\n",
       "      <th>4</th>\n",
       "      <td>41.0</td>\n",
       "      <td>2.0</td>\n",
       "      <td>NaN</td>\n",
       "      <td>11.0</td>\n",
       "      <td>6000.0</td>\n",
       "      <td>57000.0</td>\n",
       "    </tr>\n",
       "  </tbody>\n",
       "</table>\n",
       "</div>"
      ],
      "text/plain": [
       "   Age (years)  Family size  Monthly income (RUB)  \\\n",
       "0         38.0          2.0               22600.0   \n",
       "1         47.0          2.0               11200.0   \n",
       "2          NaN          2.0               22500.0   \n",
       "3         51.0          3.0               16000.0   \n",
       "4         41.0          2.0                   NaN   \n",
       "\n",
       "   Residence in the region (years)  Car valuation (USD)  \\\n",
       "0                              8.0              22000.0   \n",
       "1                             14.0              12000.0   \n",
       "2                              9.0              22000.0   \n",
       "3                             17.0              18000.0   \n",
       "4                             11.0               6000.0   \n",
       "\n",
       "   Loan amount (x1000 RUB)  \n",
       "0                      NaN  \n",
       "1                 119000.0  \n",
       "2                 224000.0  \n",
       "3                 173000.0  \n",
       "4                  57000.0  "
      ]
     },
     "execution_count": 12,
     "metadata": {},
     "output_type": "execute_result"
    }
   ],
   "source": [
    "df = read_all_variants()\n",
    "df.head()"
   ]
  },
  {
   "cell_type": "code",
   "execution_count": 13,
   "metadata": {},
   "outputs": [
    {
     "data": {
      "text/html": [
       "<div>\n",
       "<style scoped>\n",
       "    .dataframe tbody tr th:only-of-type {\n",
       "        vertical-align: middle;\n",
       "    }\n",
       "\n",
       "    .dataframe tbody tr th {\n",
       "        vertical-align: top;\n",
       "    }\n",
       "\n",
       "    .dataframe thead th {\n",
       "        text-align: right;\n",
       "    }\n",
       "</style>\n",
       "<table border=\"1\" class=\"dataframe\">\n",
       "  <thead>\n",
       "    <tr style=\"text-align: right;\">\n",
       "      <th></th>\n",
       "      <th>Age (years)</th>\n",
       "      <th>Family size</th>\n",
       "      <th>Monthly income (RUB)</th>\n",
       "      <th>Residence in the region (years)</th>\n",
       "      <th>Car valuation (USD)</th>\n",
       "      <th>Loan amount (x1000 RUB)</th>\n",
       "    </tr>\n",
       "  </thead>\n",
       "  <tbody>\n",
       "    <tr>\n",
       "      <th>count</th>\n",
       "      <td>699.000000</td>\n",
       "      <td>703.000000</td>\n",
       "      <td>702.000000</td>\n",
       "      <td>706.000000</td>\n",
       "      <td>702.000000</td>\n",
       "      <td>705.000000</td>\n",
       "    </tr>\n",
       "    <tr>\n",
       "      <th>mean</th>\n",
       "      <td>39.110157</td>\n",
       "      <td>2.021337</td>\n",
       "      <td>19445.299145</td>\n",
       "      <td>10.172805</td>\n",
       "      <td>21173.789174</td>\n",
       "      <td>201406.099291</td>\n",
       "    </tr>\n",
       "    <tr>\n",
       "      <th>std</th>\n",
       "      <td>8.784145</td>\n",
       "      <td>1.013217</td>\n",
       "      <td>9877.044344</td>\n",
       "      <td>4.828538</td>\n",
       "      <td>11278.272303</td>\n",
       "      <td>97600.870198</td>\n",
       "    </tr>\n",
       "    <tr>\n",
       "      <th>min</th>\n",
       "      <td>19.000000</td>\n",
       "      <td>0.000000</td>\n",
       "      <td>700.000000</td>\n",
       "      <td>0.000000</td>\n",
       "      <td>0.000000</td>\n",
       "      <td>3000.000000</td>\n",
       "    </tr>\n",
       "    <tr>\n",
       "      <th>25%</th>\n",
       "      <td>33.000000</td>\n",
       "      <td>1.000000</td>\n",
       "      <td>11300.000000</td>\n",
       "      <td>6.000000</td>\n",
       "      <td>13000.000000</td>\n",
       "      <td>127000.000000</td>\n",
       "    </tr>\n",
       "    <tr>\n",
       "      <th>50%</th>\n",
       "      <td>39.000000</td>\n",
       "      <td>2.000000</td>\n",
       "      <td>19550.000000</td>\n",
       "      <td>10.000000</td>\n",
       "      <td>20000.000000</td>\n",
       "      <td>200000.000000</td>\n",
       "    </tr>\n",
       "    <tr>\n",
       "      <th>75%</th>\n",
       "      <td>45.000000</td>\n",
       "      <td>3.000000</td>\n",
       "      <td>27850.000000</td>\n",
       "      <td>13.750000</td>\n",
       "      <td>29000.000000</td>\n",
       "      <td>274000.000000</td>\n",
       "    </tr>\n",
       "    <tr>\n",
       "      <th>max</th>\n",
       "      <td>60.000000</td>\n",
       "      <td>5.000000</td>\n",
       "      <td>43300.000000</td>\n",
       "      <td>22.000000</td>\n",
       "      <td>50000.000000</td>\n",
       "      <td>437000.000000</td>\n",
       "    </tr>\n",
       "  </tbody>\n",
       "</table>\n",
       "</div>"
      ],
      "text/plain": [
       "       Age (years)  Family size  Monthly income (RUB)  \\\n",
       "count   699.000000   703.000000            702.000000   \n",
       "mean     39.110157     2.021337          19445.299145   \n",
       "std       8.784145     1.013217           9877.044344   \n",
       "min      19.000000     0.000000            700.000000   \n",
       "25%      33.000000     1.000000          11300.000000   \n",
       "50%      39.000000     2.000000          19550.000000   \n",
       "75%      45.000000     3.000000          27850.000000   \n",
       "max      60.000000     5.000000          43300.000000   \n",
       "\n",
       "       Residence in the region (years)  Car valuation (USD)  \\\n",
       "count                       706.000000           702.000000   \n",
       "mean                         10.172805         21173.789174   \n",
       "std                           4.828538         11278.272303   \n",
       "min                           0.000000             0.000000   \n",
       "25%                           6.000000         13000.000000   \n",
       "50%                          10.000000         20000.000000   \n",
       "75%                          13.750000         29000.000000   \n",
       "max                          22.000000         50000.000000   \n",
       "\n",
       "       Loan amount (x1000 RUB)  \n",
       "count               705.000000  \n",
       "mean             201406.099291  \n",
       "std               97600.870198  \n",
       "min                3000.000000  \n",
       "25%              127000.000000  \n",
       "50%              200000.000000  \n",
       "75%              274000.000000  \n",
       "max              437000.000000  "
      ]
     },
     "execution_count": 13,
     "metadata": {},
     "output_type": "execute_result"
    }
   ],
   "source": [
    "df.describe()"
   ]
  },
  {
   "cell_type": "code",
   "execution_count": 18,
   "metadata": {},
   "outputs": [
    {
     "data": {
      "image/png": "[encoded data removed]",
      "text/plain": [
       "<Figure size 1440x720 with 6 Axes>"
      ]
     },
     "metadata": {
      "needs_background": "light"
     },
     "output_type": "display_data"
    }
   ],
   "source": [
    "fig, axs = plt.subplots(2, 3)\n",
    "fig.set_size_inches(20,10)\n",
    "\n",
    "for i in range(6):\n",
    "    sns.histplot(data=df, x=columns[i], ax=np.ravel(axs)[i])"
   ]
  },
  {
   "cell_type": "code",
   "execution_count": 21,
   "metadata": {},
   "outputs": [
    {
     "data": {
      "image/png": "[encoded data removed]",
      "text/plain": [
       "<Figure size 1440x720 with 6 Axes>"
      ]
     },
     "metadata": {
      "needs_background": "light"
     },
     "output_type": "display_data"
    }
   ],
   "source": [
    "fig, axs = plt.subplots(2, 3)\n",
    "fig.set_size_inches(20,10)\n",
    "\n",
    "for i in range(6):\n",
    "    sns.boxplot(data=df, x=columns[i], ax=np.ravel(axs)[i], notch=True)"
   ]
  },
  {
   "cell_type": "code",
   "execution_count": null,
   "metadata": {},
   "outputs": [],
   "source": []
  },
  {
   "cell_type": "code",
   "execution_count": null,
   "metadata": {},
   "outputs": [],
   "source": []
  }
 ],
 "metadata": {
  "kernelspec": {
   "display_name": "Python 3 (ipykernel)",
   "language": "python",
   "name": "python3"
  },
  "language_info": {
   "codemirror_mode": {
    "name": "ipython",
    "version": 3
   },
   "file_extension": ".py",
   "mimetype": "text/x-python",
   "name": "python",
   "nbconvert_exporter": "python",
   "pygments_lexer": "ipython3",
   "version": "3.8.12"
  },
  "orig_nbformat": 4,
  "vscode": {
   "interpreter": {
    "hash": "89f78e222560bf67ff472ae0f90f87be7001f701f400a56ad941724e28f56f3e"
   }
  }
 },
 "nbformat": 4,
 "nbformat_minor": 2
}
